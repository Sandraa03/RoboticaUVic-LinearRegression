{
 "metadata": {
  "name": "",
  "signature": "sha256:419ae5ae3a14a27dafd384e75add4b878a305e428ebd67587120be9601c78959"
 },
 "nbformat": 3,
 "nbformat_minor": 0,
 "worksheets": [
  {
   "cells": [
    {
     "cell_type": "markdown",
     "metadata": {},
     "source": [
      "Q1) Download the Housing Data Set from the UCI repository (it is different from the one used in the notebook!).\n",
      "\n",
      "Q2) Load the data (using numpy.loadtxt) and separate the last column (target value, MEDV). Compute the average of the target value and the MSE obtained using it as a constant prediction."
     ]
    },
    {
     "cell_type": "code",
     "collapsed": false,
     "input": [
      "import numpy as np\n",
      "data = np.loadtxt(\"data.txt\")\n",
      "y = data[:,-1]\n",
      "print 'Data points: ', len(y)\n",
      "print y"
     ],
     "language": "python",
     "metadata": {},
     "outputs": []
    },
    {
     "cell_type": "code",
     "collapsed": false,
     "input": [
      "#La mitajana dels elements de y es calcula fent la suma de tots els elements \n",
      "#i dividint per el nombre d'elements.\n",
      "m =  np.sum(y)/len(y)\n",
      "print 'Average of the target value: ', m"
     ],
     "language": "python",
     "metadata": {},
     "outputs": []
    },
    {
     "cell_type": "code",
     "collapsed": false,
     "input": [
      "#np.dot serveix per calcular el producte de dos vectors\n",
      "#np.linalg.inv calcula la inversa d'una matriu\n",
      "#np.ones retorna una nova array de la forma dita plena de 1.\n",
      "#theta = (X'*X)^-1*X'*y\n",
      "#MSE = (1/N)*sum((y-X*theta)^2)\n",
      "\n",
      "dot = np.dot\n",
      "inv = np.linalg.inv\n",
      "\n",
      "X = np.ones((len(y),1))\n",
      "\n",
      "theta = dot(dot(inv(dot(X.T, X)), X.T), y)\n",
      "\n",
      "MSE = sum((y-dot(X, theta))**2)/len(y)\n",
      "\n",
      "print 'MSE = ', MSE"
     ],
     "language": "python",
     "metadata": {},
     "outputs": []
    },
    {
     "cell_type": "markdown",
     "metadata": {},
     "source": [
      "Q3) Split the data in two parts (50%-50%) for training and testing (first half for training, second half for testing). Train a linear regressor model for each variable individually (plus a bias term) and compute the MSE on the training and the testing set. Which variable is the most informative? which one makes the model generalize better? and worse? Compute the coefficient of determination (R^2) for the test set.\n",
      "\n",
      "    Hint: If you want to select the i-th column of an array, but want it to retain the two dimension, you can do it like that:\n",
      "\n",
      "    column = data_array[:,i:i+1] \n",
      "\n"
     ]
    },
    {
     "cell_type": "code",
     "collapsed": false,
     "input": [],
     "language": "python",
     "metadata": {},
     "outputs": []
    }
   ],
   "metadata": {}
  }
 ]
}